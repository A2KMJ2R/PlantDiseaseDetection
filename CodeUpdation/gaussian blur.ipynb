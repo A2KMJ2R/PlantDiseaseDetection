{
 "cells": [
  {
   "cell_type": "code",
   "execution_count": 1,
   "id": "31222188",
   "metadata": {},
   "outputs": [],
   "source": [
    "import os\n",
    "import cv2\n",
    "\n",
    "def apply_gaussian_blur_to_folder(folder_path, output_folder):\n",
    "    if not os.path.exists(output_folder):\n",
    "        os.makedirs(output_folder)\n",
    "\n",
    "    # Get list of subfolders in the main folder\n",
    "    subfolders = [f.path for f in os.scandir(folder_path) if f.is_dir()]\n",
    "\n",
    "    for subfolder in subfolders:\n",
    "        # Create corresponding subfolder in the output directory\n",
    "        output_subfolder = os.path.join(output_folder, os.path.basename(subfolder))\n",
    "        if not os.path.exists(output_subfolder):\n",
    "            os.makedirs(output_subfolder)\n",
    "\n",
    "        # Apply Gaussian blur to each image in the subfolder\n",
    "        for file in os.listdir(subfolder):\n",
    "            if file.endswith(\".JPG\"):\n",
    "                image_path = os.path.join(subfolder, file)\n",
    "                img = cv2.imread(image_path)\n",
    "                blurred_img = cv2.GaussianBlur(img, (5, 5), 0)  # Adjust kernel size as needed\n",
    "                output_path = os.path.join(output_subfolder, file)\n",
    "                cv2.imwrite(output_path, blurred_img)\n",
    "\n",
    "# Define paths to your \"train\", \"test\", and \"valid\" folders\n",
    "train_folder = \"train\"\n",
    "test_folder = \"test\"\n",
    "valid_folder = \"valid\"\n",
    "\n",
    "# Define output folders for blurred images\n",
    "train_blurred_folder = \"n_train\"\n",
    "test_blurred_folder = \"n_test\"\n",
    "valid_blurred_folder = \"n_valid\"\n",
    "\n",
    "# Apply Gaussian blur to images in the train, test, and valid folders\n",
    "apply_gaussian_blur_to_folder(train_folder, train_blurred_folder)\n",
    "apply_gaussian_blur_to_folder(test_folder, test_blurred_folder)\n",
    "apply_gaussian_blur_to_folder(valid_folder, valid_blurred_folder)"
   ]
  },
  {
   "cell_type": "code",
   "execution_count": null,
   "id": "9e783589",
   "metadata": {},
   "outputs": [],
   "source": []
  }
 ],
 "metadata": {
  "kernelspec": {
   "display_name": "Python (GPU)",
   "language": "python",
   "name": "gpu_env"
  },
  "language_info": {
   "codemirror_mode": {
    "name": "ipython",
    "version": 3
   },
   "file_extension": ".py",
   "mimetype": "text/x-python",
   "name": "python",
   "nbconvert_exporter": "python",
   "pygments_lexer": "ipython3",
   "version": "3.11.5"
  }
 },
 "nbformat": 4,
 "nbformat_minor": 5
}
